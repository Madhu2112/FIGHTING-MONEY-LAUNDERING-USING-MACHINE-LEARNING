{
 "cells": [
  {
   "cell_type": "code",
   "execution_count": 1,
   "metadata": {
    "execution": {
     "iopub.execute_input": "2022-11-22T03:52:33.395617Z",
     "iopub.status.busy": "2022-11-22T03:52:33.395617Z",
     "iopub.status.idle": "2022-11-22T03:52:37.322736Z",
     "shell.execute_reply": "2022-11-22T03:52:37.321886Z",
     "shell.execute_reply.started": "2022-11-22T03:52:33.395617Z"
    }
   },
   "outputs": [
    {
     "ename": "ModuleNotFoundError",
     "evalue": "No module named 'imblearn'",
     "output_type": "error",
     "traceback": [
      "\u001b[1;31m---------------------------------------------------------------------------\u001b[0m",
      "\u001b[1;31mModuleNotFoundError\u001b[0m                       Traceback (most recent call last)",
      "\u001b[1;32m~\\AppData\\Local\\Temp\\ipykernel_17436\\342210608.py\u001b[0m in \u001b[0;36m<module>\u001b[1;34m\u001b[0m\n\u001b[0;32m     23\u001b[0m \u001b[1;33m\u001b[0m\u001b[0m\n\u001b[0;32m     24\u001b[0m \u001b[1;31m# Function for creating model pipelines - imblearn\u001b[0m\u001b[1;33m\u001b[0m\u001b[1;33m\u001b[0m\u001b[1;33m\u001b[0m\u001b[0m\n\u001b[1;32m---> 25\u001b[1;33m \u001b[1;32mfrom\u001b[0m \u001b[0mimblearn\u001b[0m\u001b[1;33m.\u001b[0m\u001b[0mpipeline\u001b[0m \u001b[1;32mimport\u001b[0m \u001b[0mmake_pipeline\u001b[0m \u001b[1;32mas\u001b[0m \u001b[0mimbl_pipe\u001b[0m\u001b[1;33m\u001b[0m\u001b[1;33m\u001b[0m\u001b[0m\n\u001b[0m\u001b[0;32m     26\u001b[0m \u001b[1;33m\u001b[0m\u001b[0m\n\u001b[0;32m     27\u001b[0m \u001b[1;31m# Over-sampling using SMOTE\u001b[0m\u001b[1;33m\u001b[0m\u001b[1;33m\u001b[0m\u001b[1;33m\u001b[0m\u001b[0m\n",
      "\u001b[1;31mModuleNotFoundError\u001b[0m: No module named 'imblearn'"
     ]
    }
   ],
   "source": [
    "# !pip install imblearn\n",
    "\n",
    "import os\n",
    "\n",
    "import pandas as pd\n",
    "import numpy as np\n",
    "\n",
    "# store elements as dictionary keys and their counts as dictionary values\n",
    "from collections import Counter\n",
    "\n",
    "# scikit-learn\n",
    "from sklearn.model_selection import train_test_split\n",
    "\n",
    "from sklearn.preprocessing import MinMaxScaler, OneHotEncoder, LabelEncoder\n",
    "from sklearn.compose import ColumnTransformer, make_column_transformer\n",
    "from sklearn.pipeline import make_pipeline\n",
    "\n",
    "# Classification metrics\n",
    "from sklearn.metrics import confusion_matrix, classification_report\n",
    "\n",
    "# Function for creating model pipelines - sklearn\n",
    "from sklearn.pipeline import make_pipeline\n",
    "\n",
    "# Function for creating model pipelines - imblearn\n",
    "from imblearn.pipeline import make_pipeline as imbl_pipe\n",
    "\n",
    "# Over-sampling using SMOTE\n",
    "from imblearn.over_sampling import SMOTE\n"
   ]
  },
  {
   "cell_type": "code",
   "execution_count": null,
   "metadata": {
    "execution": {
     "iopub.execute_input": "2022-11-22T03:52:37.325709Z",
     "iopub.status.busy": "2022-11-22T03:52:37.324709Z",
     "iopub.status.idle": "2022-11-22T03:52:37.369700Z",
     "shell.execute_reply": "2022-11-22T03:52:37.368736Z",
     "shell.execute_reply.started": "2022-11-22T03:52:37.324709Z"
    }
   },
   "outputs": [],
   "source": [
    "abt = pd.read_csv(\"../Resources/analytical_base_table.csv\")\n",
    "abt.head()"
   ]
  },
  {
   "cell_type": "markdown",
   "metadata": {},
   "source": [
    "## Models Training"
   ]
  },
  {
   "cell_type": "markdown",
   "metadata": {},
   "source": [
    "## Let's start by splitting our dataframe into separate objects:\n",
    "\n",
    "y for the target varibale\n",
    "\n",
    "X for the input features"
   ]
  },
  {
   "cell_type": "code",
   "execution_count": null,
   "metadata": {
    "execution": {
     "iopub.execute_input": "2022-11-22T03:52:37.370706Z",
     "iopub.status.busy": "2022-11-22T03:52:37.370706Z",
     "iopub.status.idle": "2022-11-22T03:52:37.385701Z",
     "shell.execute_reply": "2022-11-22T03:52:37.384701Z",
     "shell.execute_reply.started": "2022-11-22T03:52:37.370706Z"
    }
   },
   "outputs": [],
   "source": [
    "#Separate dataframe into separate object\n",
    "\n",
    "# Object for target variable\n",
    "y = abt.Exited\n",
    "\n",
    "# object for input features\n",
    "X = abt.drop(['Exited'], axis=1)\n",
    "\n",
    "# display shapes of X and y\n",
    "print(X.shape, y.shape)\n"
   ]
  },
  {
   "cell_type": "code",
   "execution_count": null,
   "metadata": {
    "execution": {
     "iopub.execute_input": "2022-11-22T03:52:37.387703Z",
     "iopub.status.busy": "2022-11-22T03:52:37.386702Z",
     "iopub.status.idle": "2022-11-22T03:52:37.401702Z",
     "shell.execute_reply": "2022-11-22T03:52:37.400727Z",
     "shell.execute_reply.started": "2022-11-22T03:52:37.387703Z"
    }
   },
   "outputs": [],
   "source": [
    "# List numerical features\n",
    "num_columns = X.select_dtypes(include='number').columns.tolist()\n",
    "num_columns"
   ]
  },
  {
   "cell_type": "code",
   "execution_count": null,
   "metadata": {
    "execution": {
     "iopub.execute_input": "2022-11-22T03:52:37.402728Z",
     "iopub.status.busy": "2022-11-22T03:52:37.401702Z",
     "iopub.status.idle": "2022-11-22T03:52:37.417700Z",
     "shell.execute_reply": "2022-11-22T03:52:37.416736Z",
     "shell.execute_reply.started": "2022-11-22T03:52:37.402728Z"
    }
   },
   "outputs": [],
   "source": [
    "# List categorical features\n",
    "cat_columns = X.select_dtypes(include='object').columns.tolist()\n",
    "cat_columns"
   ]
  },
  {
   "cell_type": "code",
   "execution_count": null,
   "metadata": {
    "execution": {
     "iopub.execute_input": "2022-11-22T03:52:37.418702Z",
     "iopub.status.busy": "2022-11-22T03:52:37.418702Z",
     "iopub.status.idle": "2022-11-22T03:52:37.433701Z",
     "shell.execute_reply": "2022-11-22T03:52:37.432698Z",
     "shell.execute_reply.started": "2022-11-22T03:52:37.418702Z"
    }
   },
   "outputs": [],
   "source": [
    "def class_count(a):\n",
    "    counter=Counter(a)\n",
    "    kv=[list(counter.keys()),list(counter.values())]\n",
    "    abt2 = pd.DataFrame(np.array(kv).T, columns=['Exited','Count'])\n",
    "    abt2['Count'] = abt2['Count'].astype('int64')\n",
    "    abt2['%'] = round(abt2['Count'] / a.shape[0] * 100, 2)\n",
    "    return abt2.sort_values('Count',ascending=False)"
   ]
  },
  {
   "cell_type": "code",
   "execution_count": null,
   "metadata": {
    "execution": {
     "iopub.execute_input": "2022-11-22T03:52:37.434701Z",
     "iopub.status.busy": "2022-11-22T03:52:37.433701Z",
     "iopub.status.idle": "2022-11-22T03:52:37.464807Z",
     "shell.execute_reply": "2022-11-22T03:52:37.463811Z",
     "shell.execute_reply.started": "2022-11-22T03:52:37.434701Z"
    }
   },
   "outputs": [],
   "source": [
    "class_count(y)\n"
   ]
  },
  {
   "cell_type": "markdown",
   "metadata": {},
   "source": [
    "## Create a Train Test Split\n",
    "\n",
    "We will continue with splitting our data into separate training and test sets.\n",
    "\n",
    "30% of observations will be set aside for the test set\n",
    "\n",
    "the rest, 70%, will be used as the training set"
   ]
  },
  {
   "cell_type": "code",
   "execution_count": null,
   "metadata": {
    "execution": {
     "iopub.execute_input": "2022-11-22T03:52:37.465806Z",
     "iopub.status.busy": "2022-11-22T03:52:37.465806Z",
     "iopub.status.idle": "2022-11-22T03:52:37.480812Z",
     "shell.execute_reply": "2022-11-22T03:52:37.479813Z",
     "shell.execute_reply.started": "2022-11-22T03:52:37.465806Z"
    }
   },
   "outputs": [],
   "source": [
    "random_state = 10\n",
    "\n",
    "# Split X and y into train and test sets\n",
    "X_train, X_test, y_train, y_test = train_test_split(X, y,\n",
    "                                                    test_size=0.3,\n",
    "                                                    random_state=random_state,\n",
    "                                                    stratify=abt.Exited)\n",
    "\n",
    "# Print number of observations in X_train, X_test, y_train, and y_test\n",
    "print(len(X_train), len(X_test), len(y_train), len(y_test))"
   ]
  },
  {
   "cell_type": "code",
   "execution_count": null,
   "metadata": {
    "execution": {
     "iopub.execute_input": "2022-11-22T03:52:37.482809Z",
     "iopub.status.busy": "2022-11-22T03:52:37.481809Z",
     "iopub.status.idle": "2022-11-22T03:52:37.496808Z",
     "shell.execute_reply": "2022-11-22T03:52:37.495808Z",
     "shell.execute_reply.started": "2022-11-22T03:52:37.482809Z"
    }
   },
   "outputs": [],
   "source": [
    "X_train.info()"
   ]
  },
  {
   "cell_type": "markdown",
   "metadata": {},
   "source": [
    "## Pre-processing Pipeline\n",
    " \n",
    " ##Scale numerical data and encode categorical data\n",
    "Construct a pre-processing pipeline from the given transformers: MinMaxScaler and OneHotEncoder Create lists of indexes from the list of column namesNeed to be numeric not string to specify columns name in column transformer"
   ]
  },
  {
   "cell_type": "code",
   "execution_count": null,
   "metadata": {
    "execution": {
     "iopub.execute_input": "2022-11-22T03:52:37.499811Z",
     "iopub.status.busy": "2022-11-22T03:52:37.498808Z",
     "iopub.status.idle": "2022-11-22T03:52:37.512810Z",
     "shell.execute_reply": "2022-11-22T03:52:37.511848Z",
     "shell.execute_reply.started": "2022-11-22T03:52:37.499811Z"
    }
   },
   "outputs": [],
   "source": [
    "num_features = [] \n",
    "\n",
    "for i in num_columns:\n",
    "    location = X.columns.get_loc(i)\n",
    "    num_features.append(location)\n",
    "print(num_features)  "
   ]
  },
  {
   "cell_type": "code",
   "execution_count": null,
   "metadata": {
    "execution": {
     "iopub.execute_input": "2022-11-22T03:52:37.513808Z",
     "iopub.status.busy": "2022-11-22T03:52:37.513808Z",
     "iopub.status.idle": "2022-11-22T03:52:37.528811Z",
     "shell.execute_reply": "2022-11-22T03:52:37.527845Z",
     "shell.execute_reply.started": "2022-11-22T03:52:37.513808Z"
    }
   },
   "outputs": [],
   "source": [
    "cat_features = []\n",
    "\n",
    "for i in cat_columns:\n",
    "    location = X.columns.get_loc(i)\n",
    "    cat_features.append(location)\n",
    "print(cat_features) "
   ]
  },
  {
   "cell_type": "code",
   "execution_count": null,
   "metadata": {
    "execution": {
     "iopub.execute_input": "2022-11-22T03:52:37.529807Z",
     "iopub.status.busy": "2022-11-22T03:52:37.529807Z",
     "iopub.status.idle": "2022-11-22T03:52:37.544815Z",
     "shell.execute_reply": "2022-11-22T03:52:37.543819Z",
     "shell.execute_reply.started": "2022-11-22T03:52:37.529807Z"
    }
   },
   "outputs": [],
   "source": [
    "# Define column transformer\n",
    "# Need to be numeric not string to specify columns name \n",
    "preprocess = make_column_transformer(\n",
    "    (MinMaxScaler(), num_features),\n",
    "    (OneHotEncoder(sparse=False), cat_features)\n",
    ")\n",
    "preprocess"
   ]
  },
  {
   "cell_type": "code",
   "execution_count": null,
   "metadata": {
    "execution": {
     "iopub.execute_input": "2022-11-22T03:52:37.546814Z",
     "iopub.status.busy": "2022-11-22T03:52:37.546814Z",
     "iopub.status.idle": "2022-11-22T03:52:37.560366Z",
     "shell.execute_reply": "2022-11-22T03:52:37.559397Z",
     "shell.execute_reply.started": "2022-11-22T03:52:37.546814Z"
    }
   },
   "outputs": [],
   "source": [
    "# Import classifier\n",
    "from sklearn.linear_model import LogisticRegression \n",
    "\n",
    "# Define model with pipeline\n",
    "model = imbl_pipe(preprocess,\n",
    "                  SMOTE(sampling_strategy='auto', random_state=random_state),\n",
    "                  LogisticRegression(random_state=random_state))\n",
    "\n",
    "model"
   ]
  },
  {
   "cell_type": "code",
   "execution_count": null,
   "metadata": {
    "execution": {
     "iopub.execute_input": "2022-11-22T03:52:37.561367Z",
     "iopub.status.busy": "2022-11-22T03:52:37.561367Z",
     "iopub.status.idle": "2022-11-22T03:52:37.576370Z",
     "shell.execute_reply": "2022-11-22T03:52:37.575364Z",
     "shell.execute_reply.started": "2022-11-22T03:52:37.561367Z"
    }
   },
   "outputs": [],
   "source": [
    " # Create the GridSearchCV model\n",
    "# Create the GridSearch estimator along with a parameter object containing the values to adjust\n",
    "from sklearn.model_selection import GridSearchCV\n",
    "lr_param_grid = {\n",
    "    'logisticregression__C' : [0.01, 0.05, 0.1, 0.5, 1, 5],\n",
    "    'logisticregression__solver' : ['liblinear', 'newton-cg', 'lbfgs', 'sag', 'saga']\n",
    "}\n",
    "\n",
    "lr_grid = GridSearchCV(model, lr_param_grid, verbose=3, cv= 5, scoring='accuracy')"
   ]
  },
  {
   "cell_type": "code",
   "execution_count": null,
   "metadata": {
    "execution": {
     "iopub.execute_input": "2022-11-22T03:52:37.577366Z",
     "iopub.status.busy": "2022-11-22T03:52:37.577366Z",
     "iopub.status.idle": "2022-11-22T03:52:37.592395Z",
     "shell.execute_reply": "2022-11-22T03:52:37.591397Z",
     "shell.execute_reply.started": "2022-11-22T03:52:37.577366Z"
    }
   },
   "outputs": [],
   "source": [
    "X_train = X_train.values\n",
    "X_test = X_test.values"
   ]
  },
  {
   "cell_type": "code",
   "execution_count": null,
   "metadata": {
    "execution": {
     "iopub.execute_input": "2022-11-22T03:52:37.592395Z",
     "iopub.status.busy": "2022-11-22T03:52:37.592395Z",
     "iopub.status.idle": "2022-11-22T03:52:49.351203Z",
     "shell.execute_reply": "2022-11-22T03:52:49.350242Z",
     "shell.execute_reply.started": "2022-11-22T03:52:37.592395Z"
    },
    "scrolled": true,
    "tags": []
   },
   "outputs": [],
   "source": [
    "lr_grid.fit(X_train, y_train)"
   ]
  },
  {
   "cell_type": "code",
   "execution_count": null,
   "metadata": {
    "execution": {
     "iopub.execute_input": "2022-11-22T03:52:49.352206Z",
     "iopub.status.busy": "2022-11-22T03:52:49.352206Z",
     "iopub.status.idle": "2022-11-22T03:52:49.366739Z",
     "shell.execute_reply": "2022-11-22T03:52:49.365729Z",
     "shell.execute_reply.started": "2022-11-22T03:52:49.352206Z"
    },
    "tags": []
   },
   "outputs": [],
   "source": [
    "print(lr_grid.best_params_)"
   ]
  },
  {
   "cell_type": "code",
   "execution_count": null,
   "metadata": {
    "execution": {
     "iopub.execute_input": "2022-11-22T03:52:49.367733Z",
     "iopub.status.busy": "2022-11-22T03:52:49.366739Z",
     "iopub.status.idle": "2022-11-22T03:52:49.382705Z",
     "shell.execute_reply": "2022-11-22T03:52:49.381705Z",
     "shell.execute_reply.started": "2022-11-22T03:52:49.367733Z"
    },
    "tags": []
   },
   "outputs": [],
   "source": [
    "print(lr_grid.best_score_)"
   ]
  },
  {
   "cell_type": "code",
   "execution_count": null,
   "metadata": {
    "execution": {
     "iopub.execute_input": "2022-11-22T03:52:49.383700Z",
     "iopub.status.busy": "2022-11-22T03:52:49.383700Z",
     "iopub.status.idle": "2022-11-22T03:52:49.414700Z",
     "shell.execute_reply": "2022-11-22T03:52:49.413705Z",
     "shell.execute_reply.started": "2022-11-22T03:52:49.383700Z"
    },
    "tags": []
   },
   "outputs": [],
   "source": [
    "print(f\"Training Data Score: {lr_grid.score(X_train, y_train)}\")\n",
    "print(f\"Testing Data Score: {lr_grid.score(X_test, y_test)}\")"
   ]
  },
  {
   "cell_type": "code",
   "execution_count": null,
   "metadata": {
    "execution": {
     "iopub.execute_input": "2022-11-22T03:52:49.415700Z",
     "iopub.status.busy": "2022-11-22T03:52:49.415700Z",
     "iopub.status.idle": "2022-11-22T03:52:49.430705Z",
     "shell.execute_reply": "2022-11-22T03:52:49.429698Z",
     "shell.execute_reply.started": "2022-11-22T03:52:49.415700Z"
    }
   },
   "outputs": [],
   "source": [
    "predictions = lr_grid.predict(X_test)\n",
    "print(f\"First 10 Predictions:   {predictions[:10]}\")\n",
    "print(f\"First 10 Actual labels: {y_test[:10].tolist()}\")"
   ]
  },
  {
   "cell_type": "code",
   "execution_count": null,
   "metadata": {
    "execution": {
     "iopub.execute_input": "2022-11-22T03:52:49.431700Z",
     "iopub.status.busy": "2022-11-22T03:52:49.431700Z",
     "iopub.status.idle": "2022-11-22T03:52:49.445708Z",
     "shell.execute_reply": "2022-11-22T03:52:49.444706Z",
     "shell.execute_reply.started": "2022-11-22T03:52:49.431700Z"
    }
   },
   "outputs": [],
   "source": [
    "pd.DataFrame({\"Prediction\": predictions, \"Actual\": y_test}).reset_index(drop=True)"
   ]
  },
  {
   "cell_type": "code",
   "execution_count": null,
   "metadata": {
    "execution": {
     "iopub.execute_input": "2022-11-22T03:52:49.447709Z",
     "iopub.status.busy": "2022-11-22T03:52:49.446709Z",
     "iopub.status.idle": "2022-11-22T03:52:49.461220Z",
     "shell.execute_reply": "2022-11-22T03:52:49.460219Z",
     "shell.execute_reply.started": "2022-11-22T03:52:49.447709Z"
    }
   },
   "outputs": [],
   "source": [
    "cm = confusion_matrix(y_test, predictions)\n",
    "print(cm)"
   ]
  },
  {
   "cell_type": "code",
   "execution_count": null,
   "metadata": {
    "execution": {
     "iopub.execute_input": "2022-11-22T03:52:49.462220Z",
     "iopub.status.busy": "2022-11-22T03:52:49.462220Z",
     "iopub.status.idle": "2022-11-22T03:52:49.477221Z",
     "shell.execute_reply": "2022-11-22T03:52:49.476224Z",
     "shell.execute_reply.started": "2022-11-22T03:52:49.462220Z"
    }
   },
   "outputs": [],
   "source": [
    "cm = np.around(cm / cm.sum(axis=1)[:, np.newaxis], 2)\n",
    "print(cm)"
   ]
  },
  {
   "cell_type": "code",
   "execution_count": null,
   "metadata": {
    "execution": {
     "iopub.execute_input": "2022-11-22T03:52:49.479221Z",
     "iopub.status.busy": "2022-11-22T03:52:49.479221Z",
     "iopub.status.idle": "2022-11-22T03:52:49.509221Z",
     "shell.execute_reply": "2022-11-22T03:52:49.508220Z",
     "shell.execute_reply.started": "2022-11-22T03:52:49.479221Z"
    }
   },
   "outputs": [],
   "source": [
    "print(classification_report(y_test, predictions))"
   ]
  },
  {
   "cell_type": "code",
   "execution_count": null,
   "metadata": {
    "execution": {
     "iopub.execute_input": "2022-11-22T03:52:49.510220Z",
     "iopub.status.busy": "2022-11-22T03:52:49.510220Z",
     "iopub.status.idle": "2022-11-22T03:52:49.525219Z",
     "shell.execute_reply": "2022-11-22T03:52:49.524221Z",
     "shell.execute_reply.started": "2022-11-22T03:52:49.510220Z"
    }
   },
   "outputs": [],
   "source": [
    "pred = lr_grid.predict(X_test[:1])"
   ]
  },
  {
   "cell_type": "code",
   "execution_count": null,
   "metadata": {
    "execution": {
     "iopub.execute_input": "2022-11-22T03:52:49.526219Z",
     "iopub.status.busy": "2022-11-22T03:52:49.526219Z",
     "iopub.status.idle": "2022-11-22T03:52:49.541222Z",
     "shell.execute_reply": "2022-11-22T03:52:49.540220Z",
     "shell.execute_reply.started": "2022-11-22T03:52:49.526219Z"
    }
   },
   "outputs": [],
   "source": [
    "print(f\"Predicted classes: {pred}\")\n",
    "print(f\"Actual Labels: {list(y_test[:1])}\")"
   ]
  },
  {
   "cell_type": "code",
   "execution_count": null,
   "metadata": {
    "execution": {
     "iopub.execute_input": "2022-11-22T03:52:49.543221Z",
     "iopub.status.busy": "2022-11-22T03:52:49.542223Z",
     "iopub.status.idle": "2022-11-22T03:52:49.572288Z",
     "shell.execute_reply": "2022-11-22T03:52:49.571287Z",
     "shell.execute_reply.started": "2022-11-22T03:52:49.543221Z"
    }
   },
   "outputs": [],
   "source": [
    "import joblib\n",
    "\n",
    "filename = '../models/nate_logistic_regression.sav'\n",
    "joblib.dump(lr_grid, filename)"
   ]
  },
  {
   "cell_type": "code",
   "execution_count": null,
   "metadata": {
    "execution": {
     "iopub.execute_input": "2022-11-22T03:52:49.579286Z",
     "iopub.status.busy": "2022-11-22T03:52:49.579286Z",
     "iopub.status.idle": "2022-11-22T03:52:49.604288Z",
     "shell.execute_reply": "2022-11-22T03:52:49.603288Z",
     "shell.execute_reply.started": "2022-11-22T03:52:49.579286Z"
    }
   },
   "outputs": [],
   "source": [
    "lr_model = joblib.load(filename)\n",
    "print(lr_model.score(X_test, y_test))"
   ]
  },
  {
   "cell_type": "markdown",
   "metadata": {},
   "source": [
    "### Predict class for new data"
   ]
  },
  {
   "cell_type": "code",
   "execution_count": null,
   "metadata": {
    "execution": {
     "iopub.execute_input": "2022-11-22T03:52:49.606290Z",
     "iopub.status.busy": "2022-11-22T03:52:49.605287Z",
     "iopub.status.idle": "2022-11-22T03:52:49.620286Z",
     "shell.execute_reply": "2022-11-22T03:52:49.619285Z",
     "shell.execute_reply.started": "2022-11-22T03:52:49.606290Z"
    },
    "tags": []
   },
   "outputs": [],
   "source": [
    "# Let's use the first X_test record as new data\n",
    "X_test[:1]"
   ]
  },
  {
   "cell_type": "code",
   "execution_count": null,
   "metadata": {
    "execution": {
     "iopub.execute_input": "2022-11-22T03:52:49.621287Z",
     "iopub.status.busy": "2022-11-22T03:52:49.621287Z",
     "iopub.status.idle": "2022-11-22T03:52:49.635287Z",
     "shell.execute_reply": "2022-11-22T03:52:49.634290Z",
     "shell.execute_reply.started": "2022-11-22T03:52:49.621287Z"
    },
    "tags": []
   },
   "outputs": [],
   "source": [
    "pred_new = lr_grid.predict(X_test[:1])"
   ]
  },
  {
   "cell_type": "code",
   "execution_count": null,
   "metadata": {
    "execution": {
     "iopub.execute_input": "2022-11-22T03:52:49.637287Z",
     "iopub.status.busy": "2022-11-22T03:52:49.636287Z",
     "iopub.status.idle": "2022-11-22T03:52:49.651292Z",
     "shell.execute_reply": "2022-11-22T03:52:49.650292Z",
     "shell.execute_reply.started": "2022-11-22T03:52:49.637287Z"
    },
    "tags": []
   },
   "outputs": [],
   "source": [
    "print(f\"Predicted classes: {pred_new}\")\n",
    "print(f\"Actual Labels: {list(y_test[:1])}\")"
   ]
  },
  {
   "cell_type": "code",
   "execution_count": null,
   "metadata": {
    "execution": {
     "iopub.execute_input": "2022-11-22T03:52:49.652294Z",
     "iopub.status.busy": "2022-11-22T03:52:49.652294Z",
     "iopub.status.idle": "2022-11-22T03:52:49.919859Z",
     "shell.execute_reply": "2022-11-22T03:52:49.918859Z",
     "shell.execute_reply.started": "2022-11-22T03:52:49.652294Z"
    },
    "tags": []
   },
   "outputs": [],
   "source": [
    "X_test[:1].values"
   ]
  },
  {
   "cell_type": "code",
   "execution_count": null,
   "metadata": {
    "execution": {
     "iopub.status.busy": "2022-11-22T03:52:49.920859Z",
     "iopub.status.idle": "2022-11-22T03:52:49.920859Z",
     "shell.execute_reply": "2022-11-22T03:52:49.920859Z",
     "shell.execute_reply.started": "2022-11-22T03:52:49.920859Z"
    },
    "tags": []
   },
   "outputs": [],
   "source": [
    "pred_new1 = lr_grid.predict(X_test[:1])\n",
    "pred_new1"
   ]
  },
  {
   "cell_type": "code",
   "execution_count": null,
   "metadata": {},
   "outputs": [],
   "source": []
  }
 ],
 "metadata": {
  "kernelspec": {
   "display_name": "Python 3 (ipykernel)",
   "language": "python",
   "name": "python3"
  },
  "language_info": {
   "codemirror_mode": {
    "name": "ipython",
    "version": 3
   },
   "file_extension": ".py",
   "mimetype": "text/x-python",
   "name": "python",
   "nbconvert_exporter": "python",
   "pygments_lexer": "ipython3",
   "version": "3.7.9"
  }
 },
 "nbformat": 4,
 "nbformat_minor": 4
}
